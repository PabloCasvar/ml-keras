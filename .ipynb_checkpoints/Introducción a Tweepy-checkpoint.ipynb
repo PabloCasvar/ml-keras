{
 "cells": [
  {
   "cell_type": "markdown",
   "metadata": {},
   "source": [
    "# Introducción a Tweepy\n",
    "Alan Badillo Salas (badillo.soft@hotmail.com)\n",
    "\n",
    "Tweepy es una librería de Python para poder extraer tweets de Twitter y utilzar el API de desarrolladores en general. Por ejemplo, podemos crear tweets, podemos extraer tweets y hacer diversas funcionalidades con nuestra cuenta de desarrollador.\n",
    "\n",
    "En este tutorial vamos a intentar obtener los tweets principales para distintas marcas como Coca-Cola, Uber, Nike, Dominos, Kmmx, etc.\n",
    "\n",
    "Antes de comenzar demos tener una cuenta de desarrollador en Twitter, la cual podemos crear con una cuenta personal en: https://developer.twitter.com/\n",
    "\n",
    "Una vez creada la cuenta de desarrollador deberemos crear una `app` llenando un formulario y una vez aprobada podemos ver las credenciales de acceso dentro de la `app` en la página de desarrolladores en la parte de `detail` y en `Keys and Tokens`."
   ]
  },
  {
   "cell_type": "code",
   "execution_count": null,
   "metadata": {},
   "outputs": [],
   "source": [
    "import tweepy as ty\n",
    "\n",
    "api_key = \"WtS9C7zOviSXpV0kxNmerGAS1\"\n",
    "api_secret_key = \"GIQl5JnPPs7IHRG62FqEP95yCr05nh4nw48HrM2pts1N35Yj8I\"\n",
    "\n",
    "access_token = \"64889616-0Bc5p8Rr7rURMMcwixP9J1AkYl6iKRV9vAICK289P\"\n",
    "access_token_secret = \"ndLcxm9X5meKfRCxz3HSun4NjvVkNthDo32E2c8Ehsd6C\"\n",
    "\n",
    "auth = ty.OAuthHandler(api_key, api_secret_key)\n",
    "auth.set_access_token(access_token, access_token_secret)\n",
    "\n",
    "api = ty.API(auth)\n",
    "\n",
    "public_tweets = api.home_timeline()\n",
    "for tweet in public_tweets:\n",
    "    print tweet.text"
   ]
  }
 ],
 "metadata": {
  "kernelspec": {
   "display_name": "Python 2",
   "language": "python",
   "name": "python2"
  },
  "language_info": {
   "codemirror_mode": {
    "name": "ipython",
    "version": 2
   },
   "file_extension": ".py",
   "mimetype": "text/x-python",
   "name": "python",
   "nbconvert_exporter": "python",
   "pygments_lexer": "ipython2",
   "version": "2.7.15"
  }
 },
 "nbformat": 4,
 "nbformat_minor": 2
}
