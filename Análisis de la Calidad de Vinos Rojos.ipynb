{
 "cells": [
  {
   "cell_type": "markdown",
   "metadata": {},
   "source": [
    "# Análisis de la Calidad de Vinos Rojos\n",
    "Alan Badillo Salas (badillo.soft@hotmail.com)\n",
    "\n",
    "Basado en el dataset de http://archive.ics.uci.edu/ml/datasets/Wine+Quality, vamos a evaluar la calidad del vino mediante factores medidos en el vino como son:\n",
    "\n",
    "1. fixed acidity\n",
    "2. volatile acidity\n",
    "3. citric acid\n",
    "4. residual sugar\n",
    "5. chlorides\n",
    "6. free sulfur dioxide\n",
    "7. total sulfur dioxide\n",
    "8. density\n",
    "9. pH\n",
    "10. sulphates\n",
    "11. alcohol\n",
    "12. quality (score between 0 and 10)\n",
    "\n",
    "Dónde el último representa la calificación del 0 al 10 en la calidad del vino."
   ]
  },
  {
   "cell_type": "markdown",
   "metadata": {},
   "source": [
    "## Paso 1 - Adquisición de datos\n",
    "\n",
    "Vamos a utilizar pandas para descargar el archivo `csv` con los datos mencionados anteriormente."
   ]
  },
  {
   "cell_type": "code",
   "execution_count": 14,
   "metadata": {},
   "outputs": [
    {
     "name": "stdout",
     "output_type": "stream",
     "text": [
      "<class 'pandas.core.frame.DataFrame'>\n",
      "RangeIndex: 1599 entries, 0 to 1598\n",
      "Data columns (total 12 columns):\n",
      "fixed acidity           1599 non-null float64\n",
      "volatile acidity        1599 non-null float64\n",
      "citric acid             1599 non-null float64\n",
      "residual sugar          1599 non-null float64\n",
      "chlorides               1599 non-null float64\n",
      "free sulfur dioxide     1599 non-null float64\n",
      "total sulfur dioxide    1599 non-null float64\n",
      "density                 1599 non-null float64\n",
      "pH                      1599 non-null float64\n",
      "sulphates               1599 non-null float64\n",
      "alcohol                 1599 non-null float64\n",
      "quality                 1599 non-null int64\n",
      "dtypes: float64(11), int64(1)\n",
      "memory usage: 150.0 KB\n",
      "None\n",
      "   fixed acidity  volatile acidity  citric acid  residual sugar  chlorides  \\\n",
      "0            7.4              0.70         0.00             1.9      0.076   \n",
      "1            7.8              0.88         0.00             2.6      0.098   \n",
      "2            7.8              0.76         0.04             2.3      0.092   \n",
      "3           11.2              0.28         0.56             1.9      0.075   \n",
      "4            7.4              0.70         0.00             1.9      0.076   \n",
      "\n",
      "   free sulfur dioxide  total sulfur dioxide  density    pH  sulphates  \\\n",
      "0                 11.0                  34.0   0.9978  3.51       0.56   \n",
      "1                 25.0                  67.0   0.9968  3.20       0.68   \n",
      "2                 15.0                  54.0   0.9970  3.26       0.65   \n",
      "3                 17.0                  60.0   0.9980  3.16       0.58   \n",
      "4                 11.0                  34.0   0.9978  3.51       0.56   \n",
      "\n",
      "   alcohol  quality  \n",
      "0      9.4        5  \n",
      "1      9.8        5  \n",
      "2      9.8        5  \n",
      "3      9.8        6  \n",
      "4      9.4        5  \n"
     ]
    }
   ],
   "source": [
    "import pandas as pd\n",
    "\n",
    "df = pd.read_csv(\"http://archive.ics.uci.edu/ml/machine-learning-databases/wine-quality/winequality-red.csv\", sep=\";\")\n",
    "\n",
    "print(df.info())\n",
    "print(df.head())"
   ]
  },
  {
   "cell_type": "markdown",
   "metadata": {},
   "source": [
    "## Paso 2 - Preprocesamiento de datos\n",
    "\n",
    "Todas las columnas son ordinales y cardinales (numéricas) por lo que no tenemos que hacer gran pre-procesamiento de datos, sólo vamos a ordenar los datos aleatoriamente para evitar pérdida de generalidad."
   ]
  },
  {
   "cell_type": "code",
   "execution_count": 15,
   "metadata": {},
   "outputs": [
    {
     "name": "stdout",
     "output_type": "stream",
     "text": [
      "      fixed acidity  volatile acidity  citric acid  residual sugar  chlorides  \\\n",
      "1403            7.2              0.33         0.33             1.7      0.061   \n",
      "868             6.8              0.56         0.22             1.8      0.074   \n",
      "559            13.0              0.47         0.49             4.3      0.085   \n",
      "967             8.5              0.66         0.20             2.1      0.097   \n",
      "106             7.8              0.41         0.68             1.7      0.467   \n",
      "\n",
      "      free sulfur dioxide  total sulfur dioxide  density    pH  sulphates  \\\n",
      "1403                  3.0                  13.0  0.99600  3.23       1.10   \n",
      "868                  15.0                  24.0  0.99438  3.40       0.82   \n",
      "559                   6.0                  47.0  1.00210  3.30       0.68   \n",
      "967                  23.0                 113.0  0.99733  3.13       0.48   \n",
      "106                  18.0                  69.0  0.99730  3.08       1.31   \n",
      "\n",
      "      alcohol  quality  \n",
      "1403     10.0        8  \n",
      "868      11.2        6  \n",
      "559      12.7        6  \n",
      "967       9.2        5  \n",
      "106       9.3        5  \n"
     ]
    }
   ],
   "source": [
    "df = df.sample(frac=1)\n",
    "\n",
    "print(df.head())"
   ]
  },
  {
   "cell_type": "markdown",
   "metadata": {},
   "source": [
    "## Paso 3 - Calcular el número de ejemplos de entrenamiento\n",
    "\n",
    "Vamos a calcular la constante `k` que va a representar el 80% del total de muestras para tomarlas como parte del entrenamiento y el 20% restante usarlas para medir el desempeño del entrenamiento."
   ]
  },
  {
   "cell_type": "code",
   "execution_count": 16,
   "metadata": {},
   "outputs": [
    {
     "name": "stdout",
     "output_type": "stream",
     "text": [
      "Se tomarán 1279/1599 muestras para el entrenamiento\n"
     ]
    }
   ],
   "source": [
    "n = len(df)\n",
    "k = int(0.8 * n)\n",
    "\n",
    "print(\"Se tomarán {}/{} muestras para el entrenamiento\".format(k, n))"
   ]
  },
  {
   "cell_type": "markdown",
   "metadata": {},
   "source": [
    "## Paso 4 - Seleccionar las columnas que serán utilizadas para el análisis\n",
    "\n",
    "Vamos a seleccionar las columnas con las caracterísitcas para el entrenamiento (las muestras `x`) y las columnas objetivos para el entrenamiento (las muestras `y`)."
   ]
  },
  {
   "cell_type": "code",
   "execution_count": 24,
   "metadata": {},
   "outputs": [
    {
     "name": "stdout",
     "output_type": "stream",
     "text": [
      "Index([u'fixed acidity', u'volatile acidity', u'citric acid',\n",
      "       u'residual sugar', u'chlorides', u'free sulfur dioxide',\n",
      "       u'total sulfur dioxide', u'density', u'pH', u'sulphates', u'alcohol'],\n",
      "      dtype='object')\n",
      "Index([u'quality'], dtype='object')\n"
     ]
    }
   ],
   "source": [
    "x_columns = df.columns[0:11]\n",
    "y_columns = df.columns[11:]\n",
    "\n",
    "print(x_columns)\n",
    "print(y_columns)"
   ]
  },
  {
   "cell_type": "code",
   "execution_count": 25,
   "metadata": {},
   "outputs": [
    {
     "name": "stdout",
     "output_type": "stream",
     "text": [
      "<class 'pandas.core.frame.DataFrame'>\n",
      "Int64Index: 1599 entries, 1403 to 1224\n",
      "Data columns (total 11 columns):\n",
      "fixed acidity           1599 non-null float64\n",
      "volatile acidity        1599 non-null float64\n",
      "citric acid             1599 non-null float64\n",
      "residual sugar          1599 non-null float64\n",
      "chlorides               1599 non-null float64\n",
      "free sulfur dioxide     1599 non-null float64\n",
      "total sulfur dioxide    1599 non-null float64\n",
      "density                 1599 non-null float64\n",
      "pH                      1599 non-null float64\n",
      "sulphates               1599 non-null float64\n",
      "alcohol                 1599 non-null float64\n",
      "dtypes: float64(11)\n",
      "memory usage: 149.9 KB\n",
      "None\n",
      "<class 'pandas.core.frame.DataFrame'>\n",
      "Int64Index: 1599 entries, 1403 to 1224\n",
      "Data columns (total 1 columns):\n",
      "quality    1599 non-null int64\n",
      "dtypes: int64(1)\n",
      "memory usage: 25.0 KB\n",
      "None\n"
     ]
    }
   ],
   "source": [
    "x = df.filter(items=x_columns)\n",
    "\n",
    "y = df.filter(items=y_columns)\n",
    "\n",
    "print(x.info())\n",
    "print(y.info())"
   ]
  },
  {
   "cell_type": "markdown",
   "metadata": {},
   "source": [
    "## Paso 5 - Seleccionar las muestras de entrenamiento y las de validación\n",
    "\n",
    "Vamos a calcular `x_train`, `x_test`, `y_train` y `y_test`."
   ]
  },
  {
   "cell_type": "code",
   "execution_count": 26,
   "metadata": {},
   "outputs": [
    {
     "name": "stdout",
     "output_type": "stream",
     "text": [
      "Características de entrenamiento (x_train): 1279\n",
      "Características de validación (x_test): 320\n",
      "Objetivos de entrenamiento (y_train): 1279\n",
      "Objetivos de validación (y_test): 320\n"
     ]
    }
   ],
   "source": [
    "x_train = x[:k]\n",
    "x_test  = x[k:]\n",
    "\n",
    "y_train = y[:k]\n",
    "y_test = y[k:]\n",
    "\n",
    "print(\"Características de entrenamiento (x_train): {}\".format(len(x_train)))\n",
    "print(\"Características de validación (x_test): {}\".format(len(x_test)))\n",
    "print(\"Objetivos de entrenamiento (y_train): {}\".format(len(y_train)))\n",
    "print(\"Objetivos de validación (y_test): {}\".format(len(y_test)))"
   ]
  },
  {
   "cell_type": "markdown",
   "metadata": {},
   "source": [
    "## Paso 6 - Crear el modelo de la red neuronal (ANN)\n",
    "\n",
    "Vamos a establecer una red neuronal artificial (ANN) con una capa densa de `22` unidades con activación `tanh` y otra capa densa de salida con `1` unidad con activación `relu`."
   ]
  },
  {
   "cell_type": "code",
   "execution_count": 57,
   "metadata": {},
   "outputs": [
    {
     "name": "stdout",
     "output_type": "stream",
     "text": [
      "<keras.engine.sequential.Sequential object at 0x11d039910>\n"
     ]
    }
   ],
   "source": [
    "from keras.models import Sequential\n",
    "from keras.layers import Dense\n",
    "\n",
    "model = Sequential()\n",
    "\n",
    "model.add(Dense(44, activation=\"tanh\", input_dim=11))\n",
    "model.add(Dense(1, activation=\"relu\"))\n",
    "\n",
    "model.compile(optimizer=\"adam\", loss=\"mse\", metrics=[\"accuracy\"])\n",
    "\n",
    "print(model)"
   ]
  },
  {
   "cell_type": "markdown",
   "metadata": {},
   "source": [
    "## Paso 7 - Entrenar el modelo\n",
    "\n",
    "Vamos a entrenar a la red neuronal con `x_train` y `y_train`, en `5` epocas con bloques de `32` en `32`."
   ]
  },
  {
   "cell_type": "code",
   "execution_count": 89,
   "metadata": {},
   "outputs": [
    {
     "name": "stdout",
     "output_type": "stream",
     "text": [
      "Epoch 1/5\n",
      "1279/1279 [==============================] - 0s 54us/step - loss: 0.3792 - acc: 0.6161\n",
      "Epoch 2/5\n",
      "1279/1279 [==============================] - 0s 52us/step - loss: 0.3772 - acc: 0.6200\n",
      "Epoch 3/5\n",
      "1279/1279 [==============================] - 0s 49us/step - loss: 0.3787 - acc: 0.6255\n",
      "Epoch 4/5\n",
      "1279/1279 [==============================] - 0s 51us/step - loss: 0.3826 - acc: 0.6208\n",
      "Epoch 5/5\n",
      "1279/1279 [==============================] - 0s 50us/step - loss: 0.3764 - acc: 0.6208\n"
     ]
    },
    {
     "data": {
      "text/plain": [
       "<keras.callbacks.History at 0x11d286610>"
      ]
     },
     "execution_count": 89,
     "metadata": {},
     "output_type": "execute_result"
    }
   ],
   "source": [
    "model.fit(x_train, y_train, epochs=5, batch_size=32)"
   ]
  },
  {
   "cell_type": "markdown",
   "metadata": {},
   "source": [
    "## Paso 8 - Validar el modelo\n",
    "\n",
    "Vamos a evaluar el desempeño de la red neuronal mediante `x_test` y `y_test`."
   ]
  },
  {
   "cell_type": "code",
   "execution_count": 90,
   "metadata": {},
   "outputs": [
    {
     "name": "stdout",
     "output_type": "stream",
     "text": [
      "320/320 [==============================] - 0s 189us/step\n",
      "[0.41524097323417664, 0.5875]\n"
     ]
    }
   ],
   "source": [
    "metrics = model.evaluate(x_test, y_test)\n",
    "\n",
    "print(metrics)"
   ]
  },
  {
   "cell_type": "markdown",
   "metadata": {},
   "source": [
    "## Paso 9 - Contrastar los datos\n",
    "\n",
    "Vamos a contrastastar los datos de validación contra los datos que arroja el modelo."
   ]
  },
  {
   "cell_type": "code",
   "execution_count": 98,
   "metadata": {},
   "outputs": [
    {
     "name": "stdout",
     "output_type": "stream",
     "text": [
      "[5] <> [5.7433095]\n",
      "[5] <> [5.4500937]\n",
      "[5] <> [5.2576194]\n",
      "[5] <> [6.0433445]\n",
      "[6] <> [5.462053]\n",
      "[6] <> [6.353123]\n",
      "[6] <> [5.410897]\n",
      "[4] <> [5.726133]\n",
      "[5] <> [5.8053803]\n",
      "[6] <> [6.067354]\n",
      "[7] <> [6.3026695]\n",
      "[6] <> [5.47759]\n",
      "[6] <> [5.28801]\n",
      "[5] <> [5.2425094]\n",
      "[6] <> [6.182472]\n",
      "[3] <> [4.9315457]\n",
      "[5] <> [4.9312487]\n",
      "[5] <> [5.7630734]\n",
      "[7] <> [6.503777]\n",
      "[6] <> [6.015243]\n",
      "[6] <> [6.052006]\n",
      "[7] <> [5.85665]\n",
      "[6] <> [5.718371]\n",
      "[5] <> [5.5936155]\n",
      "[6] <> [5.3778157]\n",
      "[6] <> [5.693867]\n",
      "[5] <> [5.464801]\n",
      "[5] <> [6.185164]\n",
      "[6] <> [5.4750276]\n",
      "[5] <> [5.205648]\n",
      "[5] <> [5.432565]\n",
      "[5] <> [5.3762918]\n",
      "[6] <> [5.761639]\n",
      "[7] <> [5.964847]\n",
      "[6] <> [5.3521543]\n",
      "[6] <> [6.3394313]\n",
      "[5] <> [4.874476]\n",
      "[5] <> [5.433883]\n",
      "[5] <> [5.0998464]\n",
      "[6] <> [6.064123]\n",
      "[7] <> [6.853362]\n",
      "[5] <> [5.978847]\n",
      "[5] <> [5.8933167]\n",
      "[5] <> [5.320314]\n",
      "[5] <> [5.3175664]\n",
      "[5] <> [5.5400825]\n",
      "[5] <> [5.2732325]\n",
      "[7] <> [6.507204]\n",
      "[6] <> [6.774592]\n",
      "[5] <> [5.092625]\n",
      "[5] <> [5.2964635]\n",
      "[6] <> [6.150357]\n",
      "[7] <> [6.6930957]\n",
      "[5] <> [5.515864]\n",
      "[5] <> [4.890778]\n",
      "[5] <> [5.4105663]\n",
      "[6] <> [5.034576]\n",
      "[5] <> [5.40231]\n",
      "[3] <> [4.879002]\n",
      "[6] <> [6.167376]\n",
      "[5] <> [5.200944]\n",
      "[6] <> [5.718371]\n",
      "[5] <> [5.089395]\n",
      "[5] <> [5.3663597]\n",
      "[6] <> [5.7467046]\n",
      "[5] <> [6.1586094]\n",
      "[5] <> [5.3460536]\n",
      "[6] <> [5.6021466]\n",
      "[4] <> [6.1359096]\n",
      "[5] <> [5.4080653]\n",
      "[6] <> [5.397575]\n",
      "[5] <> [5.4460297]\n",
      "[6] <> [5.2730346]\n",
      "[5] <> [4.7859464]\n",
      "[6] <> [6.331598]\n",
      "[4] <> [5.915793]\n",
      "[5] <> [5.3197646]\n",
      "[5] <> [5.0873513]\n",
      "[5] <> [5.6501155]\n",
      "[8] <> [6.935127]\n",
      "[6] <> [6.4948797]\n",
      "[5] <> [5.6323743]\n",
      "[4] <> [5.14555]\n",
      "[6] <> [6.056112]\n",
      "[6] <> [5.8626018]\n",
      "[5] <> [5.1741633]\n",
      "[5] <> [5.274551]\n",
      "[7] <> [5.4344153]\n",
      "[5] <> [5.2786894]\n",
      "[5] <> [5.1730886]\n",
      "[6] <> [6.5905623]\n",
      "[6] <> [5.47759]\n",
      "[5] <> [5.227388]\n",
      "[7] <> [5.965327]\n",
      "[5] <> [5.8685575]\n",
      "[6] <> [6.3750167]\n",
      "[5] <> [5.540361]\n",
      "[5] <> [5.541366]\n",
      "[6] <> [5.2428436]\n",
      "[6] <> [5.7205653]\n",
      "[5] <> [5.386149]\n",
      "[6] <> [6.056112]\n",
      "[5] <> [5.429176]\n",
      "[6] <> [5.8842554]\n",
      "[6] <> [5.437426]\n",
      "[4] <> [5.4914136]\n",
      "[5] <> [5.702636]\n",
      "[6] <> [5.552078]\n",
      "[6] <> [6.6751065]\n",
      "[5] <> [5.342009]\n",
      "[5] <> [5.290438]\n",
      "[6] <> [5.546985]\n",
      "[6] <> [6.108722]\n",
      "[5] <> [5.479508]\n",
      "[6] <> [4.9787297]\n",
      "[6] <> [6.2693005]\n",
      "[6] <> [6.575875]\n",
      "[7] <> [6.2647376]\n",
      "[6] <> [5.8075747]\n",
      "[6] <> [6.582371]\n",
      "[5] <> [4.990049]\n",
      "[6] <> [5.2730346]\n",
      "[5] <> [6.2058473]\n",
      "[6] <> [5.595289]\n",
      "[5] <> [5.396934]\n",
      "[5] <> [5.312435]\n",
      "[5] <> [6.029242]\n",
      "[5] <> [5.419187]\n",
      "[5] <> [5.5364356]\n",
      "[5] <> [5.3911405]\n",
      "[6] <> [4.8500495]\n",
      "[5] <> [5.68487]\n",
      "[7] <> [6.344676]\n",
      "[5] <> [5.417861]\n",
      "[6] <> [5.593474]\n",
      "[5] <> [5.7297635]\n",
      "[6] <> [6.2631984]\n",
      "[5] <> [5.4460297]\n",
      "[5] <> [5.3911405]\n",
      "[5] <> [5.630813]\n",
      "[5] <> [5.853336]\n",
      "[6] <> [5.6988034]\n",
      "[6] <> [5.6638904]\n",
      "[7] <> [6.4492183]\n",
      "[6] <> [5.6172047]\n",
      "[7] <> [6.4896626]\n",
      "[5] <> [5.4534836]\n",
      "[6] <> [5.7824183]\n",
      "[5] <> [5.6632533]\n",
      "[7] <> [6.104814]\n",
      "[5] <> [5.459744]\n",
      "[6] <> [6.106458]\n",
      "[5] <> [5.777063]\n",
      "[6] <> [5.9625382]\n",
      "[7] <> [5.82376]\n",
      "[4] <> [5.2682776]\n",
      "[6] <> [5.6882014]\n",
      "[5] <> [6.1903496]\n",
      "[5] <> [6.2398148]\n",
      "[5] <> [5.8540015]\n",
      "[5] <> [5.479508]\n",
      "[5] <> [5.32933]\n",
      "[5] <> [5.9444985]\n",
      "[7] <> [5.964847]\n",
      "[5] <> [5.2190003]\n",
      "[7] <> [5.4531074]\n",
      "[5] <> [5.6538324]\n",
      "[6] <> [5.878949]\n",
      "[6] <> [6.7139187]\n",
      "[5] <> [5.375603]\n",
      "[4] <> [4.9984303]\n",
      "[6] <> [6.29406]\n",
      "[5] <> [5.140651]\n",
      "[6] <> [6.8530326]\n",
      "[5] <> [5.888623]\n",
      "[6] <> [5.4415345]\n",
      "[5] <> [5.2904267]\n",
      "[5] <> [5.535991]\n",
      "[6] <> [5.3638644]\n",
      "[6] <> [5.3864856]\n",
      "[5] <> [5.2873883]\n",
      "[6] <> [5.390881]\n",
      "[6] <> [6.134676]\n",
      "[5] <> [5.0372615]\n",
      "[5] <> [5.245785]\n",
      "[6] <> [5.8875175]\n",
      "[5] <> [5.4210258]\n",
      "[5] <> [4.6927996]\n",
      "[6] <> [6.3750167]\n",
      "[5] <> [5.312435]\n",
      "[5] <> [5.3573337]\n",
      "[6] <> [6.0369067]\n",
      "[7] <> [6.1506534]\n",
      "[6] <> [5.75664]\n",
      "[5] <> [5.259661]\n",
      "[6] <> [6.3128133]\n",
      "[6] <> [6.9018836]\n",
      "[5] <> [5.3410935]\n",
      "[5] <> [5.981955]\n",
      "[5] <> [4.8873854]\n",
      "[7] <> [6.961016]\n",
      "[5] <> [5.410811]\n",
      "[5] <> [5.7141366]\n",
      "[5] <> [5.082208]\n",
      "[6] <> [5.6718535]\n",
      "[5] <> [4.987329]\n",
      "[6] <> [6.49511]\n",
      "[6] <> [5.952309]\n",
      "[6] <> [5.369003]\n",
      "[6] <> [5.6107917]\n",
      "[6] <> [5.289017]\n",
      "[6] <> [5.9138255]\n",
      "[5] <> [5.3824964]\n",
      "[7] <> [6.154942]\n",
      "[7] <> [6.160476]\n",
      "[5] <> [5.3619447]\n",
      "[6] <> [6.7230363]\n",
      "[5] <> [6.13103]\n",
      "[6] <> [6.7062526]\n",
      "[7] <> [6.5642524]\n",
      "[7] <> [6.6243]\n",
      "[5] <> [5.468369]\n",
      "[6] <> [6.0823827]\n",
      "[5] <> [5.1776986]\n",
      "[6] <> [6.331598]\n",
      "[5] <> [5.096172]\n",
      "[6] <> [5.999105]\n",
      "[5] <> [5.514363]\n",
      "[6] <> [6.4892373]\n",
      "[6] <> [5.4725585]\n",
      "[5] <> [5.743624]\n",
      "[5] <> [5.265718]\n",
      "[7] <> [5.744241]\n",
      "[4] <> [5.7049375]\n",
      "[5] <> [4.2544093]\n",
      "[6] <> [6.047398]\n",
      "[6] <> [6.223126]\n",
      "[8] <> [6.7255926]\n",
      "[7] <> [6.503777]\n",
      "[5] <> [5.263909]\n",
      "[6] <> [6.511207]\n",
      "[3] <> [4.568871]\n",
      "[5] <> [5.51397]\n",
      "[7] <> [6.6872706]\n",
      "[7] <> [6.299894]\n",
      "[6] <> [5.540559]\n",
      "[6] <> [5.588165]\n",
      "[6] <> [6.079109]\n",
      "[6] <> [5.743772]\n",
      "[5] <> [5.3410325]\n",
      "[7] <> [6.6365523]\n",
      "[6] <> [5.5291057]\n",
      "[6] <> [5.915054]\n",
      "[5] <> [5.3899627]\n",
      "[5] <> [5.457193]\n",
      "[6] <> [5.3688903]\n",
      "[6] <> [6.07646]\n",
      "[5] <> [5.109162]\n",
      "[5] <> [5.4364896]\n",
      "[5] <> [5.6172833]\n",
      "[5] <> [5.816276]\n",
      "[6] <> [5.4843764]\n",
      "[6] <> [6.691422]\n",
      "[6] <> [6.1792]\n",
      "[6] <> [5.822355]\n",
      "[6] <> [5.409887]\n",
      "[5] <> [5.1515737]\n",
      "[7] <> [6.6676354]\n",
      "[4] <> [5.6137567]\n",
      "[6] <> [5.978232]\n",
      "[6] <> [6.115104]\n",
      "[6] <> [5.3682446]\n",
      "[6] <> [6.348595]\n",
      "[5] <> [5.9753904]\n",
      "[6] <> [6.059879]\n",
      "[6] <> [5.5742517]\n",
      "[5] <> [5.2926764]\n",
      "[5] <> [6.1502795]\n",
      "[6] <> [5.5267835]\n",
      "[4] <> [5.3074985]\n",
      "[7] <> [6.319057]\n",
      "[6] <> [5.5742517]\n",
      "[7] <> [6.1751323]\n",
      "[6] <> [5.4081936]\n",
      "[7] <> [6.113152]\n",
      "[5] <> [5.1710315]\n",
      "[6] <> [5.8179994]\n",
      "[7] <> [6.25009]\n",
      "[6] <> [6.264836]\n",
      "[6] <> [5.668031]\n",
      "[6] <> [6.785886]\n",
      "[6] <> [5.8877683]\n",
      "[5] <> [5.591744]\n",
      "[6] <> [6.1188836]\n",
      "[7] <> [5.862125]\n",
      "[5] <> [5.407432]\n",
      "[6] <> [6.0784364]\n",
      "[6] <> [5.5041842]\n",
      "[6] <> [6.1037908]\n",
      "[6] <> [5.8786263]\n",
      "[7] <> [6.6365523]\n",
      "[5] <> [5.6499467]\n",
      "[7] <> [6.499]\n",
      "[5] <> [5.805343]\n",
      "[6] <> [6.334292]\n",
      "[5] <> [5.978847]\n",
      "[5] <> [5.4771247]\n",
      "[5] <> [5.114554]\n",
      "[5] <> [6.1743493]\n",
      "[6] <> [6.051595]\n",
      "[5] <> [6.245233]\n",
      "[6] <> [5.7449756]\n",
      "[5] <> [5.752873]\n",
      "[6] <> [5.944734]\n",
      "[6] <> [5.6503882]\n",
      "[6] <> [6.1824327]\n",
      "[5] <> [5.3193736]\n",
      "[5] <> [5.439551]\n",
      "[5] <> [5.884999]\n",
      "[6] <> [6.149416]\n"
     ]
    }
   ],
   "source": [
    "y_predict = model.predict(x_test)\n",
    "\n",
    "for i in range(len(x_test)):\n",
    "    xt = x_test.values[i]\n",
    "    yt = y_test.values[i]\n",
    "    yp = y_predict[i]\n",
    "    print(\"{} <> {}\".format(yt, yp))"
   ]
  },
  {
   "cell_type": "markdown",
   "metadata": {},
   "source": [
    "## Paso 10 - Almacenar el modelo\n",
    "\n",
    "Una vez que el modelo aprende correctamente a clasificar el vino (o al menos tiene buenos resultados), podemos almacenar el modelo y sus pesos utilizando el formato `JSON` para el modelo y el formato `HDF5` para los pesos como se muestra en este tutorial: https://machinelearningmastery.com/save-load-keras-deep-learning-models/."
   ]
  },
  {
   "cell_type": "code",
   "execution_count": 102,
   "metadata": {},
   "outputs": [],
   "source": [
    "model_json = model.to_json()\n",
    "\n",
    "f = open(\"wine_model.json\", \"w\")\n",
    "f.write(model_json)\n",
    "f.close()\n",
    "\n",
    "model.save_weights(\"wine_weights.h5\")"
   ]
  },
  {
   "cell_type": "markdown",
   "metadata": {},
   "source": [
    "En futuro podemos cargar el modelo y los pesos desde sus archivos correspondientes sin tener que recrear ni la red neuronal ni el entrenamiento."
   ]
  },
  {
   "cell_type": "code",
   "execution_count": 103,
   "metadata": {},
   "outputs": [
    {
     "name": "stdout",
     "output_type": "stream",
     "text": [
      "[[3.2932699]]\n"
     ]
    }
   ],
   "source": [
    "from keras.models import model_from_json\n",
    "\n",
    "f = open(\"wine_model.json\", \"r\")\n",
    "\n",
    "model = model_from_json(f.read())\n",
    "\n",
    "f.close()\n",
    "\n",
    "model.load_weights(\"wine_weights.h5\")\n",
    "\n",
    "model.compile(optimizer=\"adam\", loss=\"mse\", metrics=[\"accuracy\"])\n",
    "\n",
    "## ... trabajar el modelo para predecir, evaluar o seguir entrenando\n",
    "\n",
    "print(model.predict(np.array([\n",
    "    [7.4, 0.70, 0.00, 1.9, 0.076, 11.0, 4.0, 0.9978, 3.51, 0.56, 9.4]\n",
    "])))"
   ]
  }
 ],
 "metadata": {
  "kernelspec": {
   "display_name": "Python 2",
   "language": "python",
   "name": "python2"
  },
  "language_info": {
   "codemirror_mode": {
    "name": "ipython",
    "version": 2
   },
   "file_extension": ".py",
   "mimetype": "text/x-python",
   "name": "python",
   "nbconvert_exporter": "python",
   "pygments_lexer": "ipython2",
   "version": "2.7.15"
  }
 },
 "nbformat": 4,
 "nbformat_minor": 2
}
