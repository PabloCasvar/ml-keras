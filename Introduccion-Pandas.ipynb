{
 "cells": [
  {
   "cell_type": "markdown",
   "metadata": {},
   "source": [
    "# Introducción a Pandas\n",
    "Alan Badillo Salas (badillo.soft@hotmail.com)\n",
    "\n",
    "Pandas es una librería para el análisis de datos para Python, la cuál nos va a permitir retener datos en memoria bajo dos estructuras básicas llamadas la `Serie` y el `DataFrame`. Los datos en el fondo son almacenados en arreglos n-dimesionales de numpy. Pandas nos permite cargar fácilmente archivos `csv` de nuestra computadora o internet para trabajarlos como `DataFrames`."
   ]
  },
  {
   "cell_type": "markdown",
   "metadata": {},
   "source": [
    "## Series\n",
    "\n",
    "Una serie es un arreglo unidimensional opcionalmente nombrado e indexado automáticamente o manualmente. La serie se corresponde con un arreglo 1-D de numpy."
   ]
  },
  {
   "cell_type": "code",
   "execution_count": 1,
   "metadata": {},
   "outputs": [
    {
     "name": "stdout",
     "output_type": "stream",
     "text": [
      "0    1\n",
      "1    2\n",
      "2    3\n",
      "3    4\n",
      "4    5\n",
      "dtype: int64\n"
     ]
    }
   ],
   "source": [
    "import pandas as pd\n",
    "\n",
    "s1 = pd.Series([1, 2, 3, 4, 5])\n",
    "\n",
    "print(s1)"
   ]
  },
  {
   "cell_type": "markdown",
   "metadata": {},
   "source": [
    "Podemos recuperar el arreglo de numpy mediante `s1.values`."
   ]
  },
  {
   "cell_type": "code",
   "execution_count": 2,
   "metadata": {},
   "outputs": [
    {
     "name": "stdout",
     "output_type": "stream",
     "text": [
      "[1 2 3 4 5]\n"
     ]
    }
   ],
   "source": [
    "print(s1.values)"
   ]
  },
  {
   "cell_type": "markdown",
   "metadata": {},
   "source": [
    "Las series pueden ser modificadas como cualquier arreglo de numpy."
   ]
  },
  {
   "cell_type": "code",
   "execution_count": 4,
   "metadata": {},
   "outputs": [
    {
     "name": "stdout",
     "output_type": "stream",
     "text": [
      "0    12\n",
      "1    14\n",
      "2    16\n",
      "3    18\n",
      "4    20\n",
      "dtype: int64\n"
     ]
    }
   ],
   "source": [
    "s2 = 2 * s1 + 10\n",
    "\n",
    "print(s2)"
   ]
  },
  {
   "cell_type": "markdown",
   "metadata": {},
   "source": [
    "Podemos también aplicar tranformaciones con funciones de numpy o condicionales."
   ]
  },
  {
   "cell_type": "code",
   "execution_count": 5,
   "metadata": {},
   "outputs": [
    {
     "name": "stdout",
     "output_type": "stream",
     "text": [
      "0    False\n",
      "1    False\n",
      "2    False\n",
      "3     True\n",
      "4     True\n",
      "dtype: bool\n"
     ]
    }
   ],
   "source": [
    "s3 = s2 > 16\n",
    "\n",
    "print(s3)"
   ]
  },
  {
   "cell_type": "markdown",
   "metadata": {},
   "source": [
    "Podemos crear series a partir de arreglos de numpy, listas de python o constantes."
   ]
  },
  {
   "cell_type": "code",
   "execution_count": 7,
   "metadata": {},
   "outputs": [
    {
     "name": "stdout",
     "output_type": "stream",
     "text": [
      "0    5\n",
      "1    5\n",
      "2    5\n",
      "3    5\n",
      "4    5\n",
      "5    5\n",
      "6    5\n",
      "7    5\n",
      "8    5\n",
      "9    5\n",
      "dtype: int64\n"
     ]
    }
   ],
   "source": [
    "s1 = pd.Series(5, index=range(10))\n",
    "\n",
    "print(s1)"
   ]
  },
  {
   "cell_type": "markdown",
   "metadata": {},
   "source": [
    "Finalmente algo muy útil es poder crear series con índices específicos."
   ]
  },
  {
   "cell_type": "code",
   "execution_count": 8,
   "metadata": {},
   "outputs": [
    {
     "name": "stdout",
     "output_type": "stream",
     "text": [
      "A     1\n",
      "B    10\n",
      "C     2\n",
      "dtype: int64\n"
     ]
    }
   ],
   "source": [
    "s2 = pd.Series([1, 10, 2], index=[\"A\", \"B\", \"C\"])\n",
    "\n",
    "print(s2)"
   ]
  },
  {
   "cell_type": "markdown",
   "metadata": {},
   "source": [
    "## Operaciones entre Series\n",
    "\n",
    "Ya vimos que las series las podemos transformar como a los arreglos en numpy (multiplicando y sumando constantes). Pero también podemos realizar sumas y restas entre series."
   ]
  },
  {
   "cell_type": "code",
   "execution_count": 9,
   "metadata": {},
   "outputs": [
    {
     "name": "stdout",
     "output_type": "stream",
     "text": [
      "0     3\n",
      "1     7\n",
      "2    11\n",
      "3    15\n",
      "4    19\n",
      "dtype: int64\n"
     ]
    }
   ],
   "source": [
    "s1 = pd.Series([1, 3, 5, 7, 9])\n",
    "s2 = pd.Series([2, 4, 6, 8, 10])\n",
    "\n",
    "s3 = s1 + s2\n",
    "\n",
    "print(s3)"
   ]
  },
  {
   "cell_type": "code",
   "execution_count": 10,
   "metadata": {},
   "outputs": [
    {
     "name": "stdout",
     "output_type": "stream",
     "text": [
      "0    3.0\n",
      "1    6.0\n",
      "2    9.0\n",
      "3    NaN\n",
      "4    NaN\n",
      "dtype: float64\n"
     ]
    }
   ],
   "source": [
    "s1 = pd.Series([1, 2, 3])\n",
    "s2 = pd.Series([2, 4, 6, 8, 10])\n",
    "\n",
    "s3 = s1 + s2\n",
    "\n",
    "print(s3)"
   ]
  },
  {
   "cell_type": "code",
   "execution_count": 15,
   "metadata": {},
   "outputs": [
    {
     "name": "stdout",
     "output_type": "stream",
     "text": [
      "a    3.0\n",
      "b    6.0\n",
      "c    NaN\n",
      "x    NaN\n",
      "y    NaN\n",
      "dtype: float64\n"
     ]
    }
   ],
   "source": [
    "s1 = pd.Series([1, 2, 3], index=[\"a\", \"b\", \"c\"])\n",
    "s2 = pd.Series([2, 4, 6, 8], index=[\"a\", \"b\", \"x\", \"y\"])\n",
    "\n",
    "s3 = s1 + s2\n",
    "\n",
    "print(s3)"
   ]
  },
  {
   "cell_type": "markdown",
   "metadata": {},
   "source": [
    "## DataFrames\n",
    "\n",
    "Un `DataFrame` es similar al concepto de tabla, dónde las filas representan los valores en el índice y las columnas representan las series. El `DataFrame` se indexa de acuerdo a las series con las que se forme.\n",
    "\n",
    "Podemos construir un `DataFrame` a partir de una matriz de python."
   ]
  },
  {
   "cell_type": "code",
   "execution_count": 16,
   "metadata": {},
   "outputs": [
    {
     "name": "stdout",
     "output_type": "stream",
     "text": [
      "   0  1  2\n",
      "0  1  2  3\n",
      "1  4  5  6\n"
     ]
    }
   ],
   "source": [
    "d1 = pd.DataFrame([\n",
    "    [1, 2, 3],\n",
    "    [4, 5, 6]\n",
    "])\n",
    "\n",
    "print(d1)"
   ]
  },
  {
   "cell_type": "markdown",
   "metadata": {},
   "source": [
    "Los índeces para las filas y los índices para las columnas están generados automáticamente.\n",
    "\n",
    "Podemos crear también un `DataFrame` a partir de diccionarios de python, dónde cada clave del diccionario es una columna en el `DataFrame` y los valores pueden ser una lista de python o una `Serie` de pandas."
   ]
  },
  {
   "cell_type": "code",
   "execution_count": 17,
   "metadata": {},
   "outputs": [
    {
     "name": "stdout",
     "output_type": "stream",
     "text": [
      "   A        B\n",
      "0  1  Manzana\n",
      "1  2     Pera\n",
      "2  3    Mango\n",
      "3  4     Piña\n"
     ]
    }
   ],
   "source": [
    "d2 = pd.DataFrame({\n",
    "    \"A\": [1, 2, 3, 4],\n",
    "    \"B\": [\"Manzana\", \"Pera\", \"Mango\", \"Piña\"]\n",
    "})\n",
    "\n",
    "print(d2)"
   ]
  },
  {
   "cell_type": "markdown",
   "metadata": {},
   "source": [
    "Podemos también crear un `DataFrame` a partir de series."
   ]
  },
  {
   "cell_type": "code",
   "execution_count": 21,
   "metadata": {},
   "outputs": [
    {
     "name": "stdout",
     "output_type": "stream",
     "text": [
      "   edad    nombre\n",
      "0    21       Ana\n",
      "1    78      Beto\n",
      "2    25     Carla\n",
      "3    32    Daniel\n",
      "4    64   Eduardo\n",
      "5    23  Fernanda\n",
      "6    16   Gerardo\n"
     ]
    }
   ],
   "source": [
    "s1 = pd.Series([21, 78, 25, 32, 64, 23, 16])\n",
    "s2 = pd.Series([\"Ana\", \"Beto\", \"Carla\", \"Daniel\", \"Eduardo\", \"Fernanda\", \"Gerardo\"])\n",
    "\n",
    "df = pd.DataFrame({\n",
    "    \"edad\": s1,\n",
    "    \"nombre\": s2\n",
    "})\n",
    "\n",
    "print(df)"
   ]
  },
  {
   "cell_type": "markdown",
   "metadata": {},
   "source": [
    "Lo más común para crear un `DataFrame` es cargar sus datos desde un archivo `csv`.\n",
    "\n",
    "Lo primero es definir el archivo `csv` con sus valores y generalmente la primer línea del `csv` son las cabeceras que serán utilizadas como los nombres de las columnas tal cual."
   ]
  },
  {
   "cell_type": "code",
   "execution_count": 24,
   "metadata": {},
   "outputs": [
    {
     "name": "stdout",
     "output_type": "stream",
     "text": [
      "   A   B   C   D\n",
      "0  1   2   3   4\n",
      "1  5   6   7   8\n",
      "2  9  10  11  12\n"
     ]
    }
   ],
   "source": [
    "df = pd.read_csv(\"data/prueba.csv\")\n",
    "\n",
    "print(df)"
   ]
  },
  {
   "cell_type": "markdown",
   "metadata": {},
   "source": [
    "## Operaciones con DataFrames\n",
    "\n",
    "Una de las operación mñas importantes es recuperar una `Serie` a partir de una columna de un `DataFrame`."
   ]
  },
  {
   "cell_type": "code",
   "execution_count": 25,
   "metadata": {},
   "outputs": [
    {
     "name": "stdout",
     "output_type": "stream",
     "text": [
      "   nombre  edad genero\n",
      "0     Ana    23      M\n",
      "1    Beto    25      H\n",
      "2   Carla    29      M\n",
      "3  Daniel    35      H\n"
     ]
    }
   ],
   "source": [
    "df = pd.read_csv(\"data/personas.csv\")\n",
    "\n",
    "print(df)"
   ]
  },
  {
   "cell_type": "markdown",
   "metadata": {},
   "source": [
    "Podemos recuperar cada columna independiente y tratarla como una serie."
   ]
  },
  {
   "cell_type": "code",
   "execution_count": 26,
   "metadata": {},
   "outputs": [
    {
     "name": "stdout",
     "output_type": "stream",
     "text": [
      "0       Ana\n",
      "1      Beto\n",
      "2     Carla\n",
      "3    Daniel\n",
      "Name: nombre, dtype: object\n",
      "0    23\n",
      "1    25\n",
      "2    29\n",
      "3    35\n",
      "Name: edad, dtype: int64\n",
      "0    M\n",
      "1    H\n",
      "2    M\n",
      "3    H\n",
      "Name: genero, dtype: object\n"
     ]
    }
   ],
   "source": [
    "nombres = df[\"nombre\"]\n",
    "edades = df[\"edad\"]\n",
    "generos = df[\"genero\"]\n",
    "\n",
    "print(nombres)\n",
    "print(edades)\n",
    "print(generos)"
   ]
  },
  {
   "cell_type": "markdown",
   "metadata": {},
   "source": [
    "Podemos generar una columna a partir del mapeo de una serie."
   ]
  },
  {
   "cell_type": "code",
   "execution_count": 28,
   "metadata": {},
   "outputs": [
    {
     "name": "stdout",
     "output_type": "stream",
     "text": [
      "0    M\n",
      "1    H\n",
      "2    M\n",
      "3    H\n",
      "Name: genero, dtype: object\n",
      "0    1\n",
      "1    2\n",
      "2    1\n",
      "3    2\n",
      "Name: genero, dtype: int64\n"
     ]
    }
   ],
   "source": [
    "cat_generos = generos.map(lambda g: 1 if g == \"M\" else 2)\n",
    "\n",
    "print(generos)\n",
    "print(cat_generos)"
   ]
  },
  {
   "cell_type": "markdown",
   "metadata": {},
   "source": [
    "El código anterior utiliza una función `lambda` la cuál es una función de una línea. Sería equivalente a definir una función de mapeo que transforme cada genero en valores categóricos."
   ]
  },
  {
   "cell_type": "code",
   "execution_count": 29,
   "metadata": {},
   "outputs": [
    {
     "name": "stdout",
     "output_type": "stream",
     "text": [
      "0    1\n",
      "1    2\n",
      "2    1\n",
      "3    2\n",
      "Name: genero, dtype: int64\n"
     ]
    }
   ],
   "source": [
    "def transforma_genero(g):\n",
    "    if g == \"M\":\n",
    "        return 1\n",
    "    else:\n",
    "        return 2\n",
    "    \n",
    "cat_generos = generos.map(transforma_genero)\n",
    "\n",
    "print(cat_generos)"
   ]
  },
  {
   "cell_type": "markdown",
   "metadata": {},
   "source": [
    "Adicionalmente podemos definir un diccionario de transformación para calcular el valor mapeado de nuestra serie."
   ]
  },
  {
   "cell_type": "code",
   "execution_count": 30,
   "metadata": {},
   "outputs": [
    {
     "name": "stdout",
     "output_type": "stream",
     "text": [
      "0    1\n",
      "1    2\n",
      "2    1\n",
      "3    2\n",
      "Name: genero, dtype: int64\n"
     ]
    }
   ],
   "source": [
    "cat_generos = generos.map({\n",
    "    \"M\": 1,\n",
    "    \"H\": 2\n",
    "})\n",
    "\n",
    "print(cat_generos)"
   ]
  },
  {
   "cell_type": "markdown",
   "metadata": {},
   "source": [
    "Una vez que tenemos una nueva serie, podemos reemplazar una columna del `DataFrame` o crear una columna, si el nombre de la columna que asignamos ya existe, entonces reemplazará la serie y sino creará una nueva columna con la serie."
   ]
  },
  {
   "cell_type": "code",
   "execution_count": 31,
   "metadata": {},
   "outputs": [
    {
     "name": "stdout",
     "output_type": "stream",
     "text": [
      "   nombre  edad genero\n",
      "0     Ana    23      M\n",
      "1    Beto    25      H\n",
      "2   Carla    29      M\n",
      "3  Daniel    35      H\n"
     ]
    }
   ],
   "source": [
    "print(df)"
   ]
  },
  {
   "cell_type": "code",
   "execution_count": 32,
   "metadata": {},
   "outputs": [
    {
     "name": "stdout",
     "output_type": "stream",
     "text": [
      "   nombre  edad genero  cat_genero\n",
      "0     Ana    23      M           1\n",
      "1    Beto    25      H           2\n",
      "2   Carla    29      M           1\n",
      "3  Daniel    35      H           2\n"
     ]
    }
   ],
   "source": [
    "df[\"cat_genero\"] = cat_generos\n",
    "\n",
    "print(df)"
   ]
  },
  {
   "cell_type": "markdown",
   "metadata": {},
   "source": [
    "De forma compacta, podemos crear columnas sin variables intermedias."
   ]
  },
  {
   "cell_type": "code",
   "execution_count": 33,
   "metadata": {},
   "outputs": [
    {
     "name": "stdout",
     "output_type": "stream",
     "text": [
      "   nombre  edad genero  cat_genero  indicador_1\n",
      "0     Ana    23      M           2           46\n",
      "1    Beto    25      H           1           25\n",
      "2   Carla    29      M           2           58\n",
      "3  Daniel    35      H           1           35\n"
     ]
    }
   ],
   "source": [
    "df[\"cat_genero\"] = df[\"genero\"].map({ \"M\": 2, \"H\": 1 })\n",
    "df[\"indicador_1\"] = df[\"edad\"] * df[\"cat_genero\"]\n",
    "\n",
    "print(df)"
   ]
  },
  {
   "cell_type": "code",
   "execution_count": 34,
   "metadata": {},
   "outputs": [
    {
     "name": "stdout",
     "output_type": "stream",
     "text": [
      "   nombre  edad genero  cat_genero  indicador_1\n",
      "0     ana    23      M           2           46\n",
      "1    beto    25      H           1           25\n",
      "2   carla    29      M           2           58\n",
      "3  daniel    35      H           1           35\n"
     ]
    }
   ],
   "source": [
    "df[\"nombre\"] = df[\"nombre\"].map(lambda n: n.lower())\n",
    "\n",
    "print(df)"
   ]
  },
  {
   "cell_type": "markdown",
   "metadata": {},
   "source": [
    "## Filtrado y Selección de datos\n",
    "\n",
    "En pandas podemos filtrar datos basados en una condición y también podemos seleccionar datos basados en un `query`."
   ]
  },
  {
   "cell_type": "code",
   "execution_count": 37,
   "metadata": {},
   "outputs": [
    {
     "name": "stdout",
     "output_type": "stream",
     "text": [
      "  nombre  edad genero  cat_genero  indicador_1\n",
      "0    ana    23      M           2           46\n",
      "2  carla    29      M           2           58\n"
     ]
    }
   ],
   "source": [
    "df_mujeres = df.query(\"genero == 'M'\")\n",
    "\n",
    "print(df_mujeres)"
   ]
  },
  {
   "cell_type": "code",
   "execution_count": 38,
   "metadata": {},
   "outputs": [
    {
     "name": "stdout",
     "output_type": "stream",
     "text": [
      "  nombre  edad genero  cat_genero  indicador_1\n",
      "1   beto    25      H           1           25\n"
     ]
    }
   ],
   "source": [
    "df_h_25_30 = df.query(\"genero == 'H' and edad >= 25 and edad <= 30\")\n",
    "\n",
    "print(df_h_25_30)"
   ]
  },
  {
   "cell_type": "markdown",
   "metadata": {},
   "source": [
    "Podemos filtrar las columnas que necesitamos para reducir el dataframe y hacerlo más manipulable."
   ]
  },
  {
   "cell_type": "code",
   "execution_count": 39,
   "metadata": {},
   "outputs": [
    {
     "name": "stdout",
     "output_type": "stream",
     "text": [
      "   edad  cat_genero\n",
      "0    23           2\n",
      "1    25           1\n",
      "2    29           2\n",
      "3    35           1\n"
     ]
    }
   ],
   "source": [
    "x = df.filter(items=[\"edad\", \"cat_genero\"])\n",
    "\n",
    "print(x)"
   ]
  },
  {
   "cell_type": "markdown",
   "metadata": {},
   "source": [
    "Lo anterior es muy útil para recuperar la matriz de datos que podemos utilizar como datos de entrenamiento en una red neuronal."
   ]
  },
  {
   "cell_type": "code",
   "execution_count": 40,
   "metadata": {},
   "outputs": [
    {
     "name": "stdout",
     "output_type": "stream",
     "text": [
      "[[23  2]\n",
      " [25  1]\n",
      " [29  2]\n",
      " [35  1]]\n"
     ]
    }
   ],
   "source": [
    "print(x.values)"
   ]
  },
  {
   "cell_type": "markdown",
   "metadata": {},
   "source": [
    "## Joins entre DataFrames\n",
    "\n",
    "Un `Join` es una extensión entre una tabla principal y una tabla secundaria, cuándo los datos en una columna se cruzan.\n",
    "\n",
    "En el siguiente ejemplo, tenemos un DataFrame con la información de los tiendas y en otro dataframe tenemos la información de productos. Entonces queremos extender el dataframe de productos, para poder saber a que tienda pertenece."
   ]
  },
  {
   "cell_type": "code",
   "execution_count": 57,
   "metadata": {},
   "outputs": [
    {
     "name": "stdout",
     "output_type": "stream",
     "text": [
      "   id     nombre   direccion\n",
      "0   1    walmart     polanco\n",
      "1   2   sanborns     condesa\n",
      "2   3  starbucks  roma norte\n"
     ]
    }
   ],
   "source": [
    "tiendas = pd.read_csv(\"data/tiendas.csv\")\n",
    "print(tiendas)"
   ]
  },
  {
   "cell_type": "code",
   "execution_count": 58,
   "metadata": {},
   "outputs": [
    {
     "name": "stdout",
     "output_type": "stream",
     "text": [
      "   id   nombre  id_tienda  stock\n",
      "0   1     cafe          3     10\n",
      "1   2  shampoo          1    100\n",
      "2   3    libro          2     30\n",
      "3   4    crema          1    200\n"
     ]
    }
   ],
   "source": [
    "productos = pd.read_csv(\"data/productos.csv\")\n",
    "\n",
    "print(productos)"
   ]
  },
  {
   "cell_type": "code",
   "execution_count": 79,
   "metadata": {},
   "outputs": [
    {
     "name": "stdout",
     "output_type": "stream",
     "text": [
      "   id nombre_produto  stock nombre_tienda   direccion\n",
      "1   2        shampoo    100       walmart     polanco\n",
      "1   4          crema    200       walmart     polanco\n",
      "2   3          libro     30      sanborns     condesa\n",
      "3   1           cafe     10     starbucks  roma norte\n"
     ]
    }
   ],
   "source": [
    "producto_tienda = productos.set_index(\"id_tienda\").join(tiendas.set_index(\"id\"), lsuffix=\"_produto\", rsuffix=\"_tienda\")\n",
    "\n",
    "print(producto_tienda)"
   ]
  },
  {
   "cell_type": "code",
   "execution_count": 81,
   "metadata": {},
   "outputs": [
    {
     "name": "stdout",
     "output_type": "stream",
     "text": [
      "  nombre_tienda   direccion  id nombre_producto  stock\n",
      "1       walmart     polanco   2         shampoo    100\n",
      "1       walmart     polanco   4           crema    200\n",
      "2      sanborns     condesa   3           libro     30\n",
      "3     starbucks  roma norte   1            cafe     10\n"
     ]
    }
   ],
   "source": [
    "tienda_producto = tiendas.set_index(\"id\").join(productos.set_index(\"id_tienda\"), lsuffix=\"_tienda\", rsuffix=\"_producto\")\n",
    "\n",
    "print(tienda_producto)"
   ]
  },
  {
   "cell_type": "markdown",
   "metadata": {},
   "source": [
    "Para joins más complejos podemos consultar: https://pandas.pydata.org/pandas-docs/stable/merging.html"
   ]
  }
 ],
 "metadata": {
  "kernelspec": {
   "display_name": "Python 2",
   "language": "python",
   "name": "python2"
  },
  "language_info": {
   "codemirror_mode": {
    "name": "ipython",
    "version": 2
   },
   "file_extension": ".py",
   "mimetype": "text/x-python",
   "name": "python",
   "nbconvert_exporter": "python",
   "pygments_lexer": "ipython2",
   "version": "2.7.15"
  }
 },
 "nbformat": 4,
 "nbformat_minor": 2
}
