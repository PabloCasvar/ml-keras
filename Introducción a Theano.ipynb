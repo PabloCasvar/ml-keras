{
 "cells": [
  {
   "cell_type": "markdown",
   "metadata": {},
   "source": [
    "# Introducción a Theano\n",
    "Alan Badillo Salas (badillo.soft@hotmail.com)\n",
    "\n",
    "Theano es una librería para el manejo de tensores y funciones con capacidades de diferenciación y uso del GPU.\n",
    "\n",
    "En esta introducción veremos como realizar algunas operaciones del Algebra y del Cálculo diferencial."
   ]
  },
  {
   "cell_type": "markdown",
   "metadata": {},
   "source": [
    "Podemos definir variables escalares y funciones mediante los tensores, los cuales nos permitirán establer funciones eficientes para funcionar en el GPU."
   ]
  },
  {
   "cell_type": "code",
   "execution_count": 1,
   "metadata": {},
   "outputs": [],
   "source": [
    "import theano.tensor as T\n",
    "import theano as th\n",
    "import numpy as np\n",
    "\n",
    "x = T.dscalar(\"x\")\n",
    "y = T.dscalar(\"y\")\n",
    "\n",
    "z = x + y\n",
    "\n",
    "f = th.function([x, y], z)"
   ]
  },
  {
   "cell_type": "code",
   "execution_count": 2,
   "metadata": {},
   "outputs": [
    {
     "data": {
      "text/plain": [
       "array(3.)"
      ]
     },
     "execution_count": 2,
     "metadata": {},
     "output_type": "execute_result"
    }
   ],
   "source": [
    "f(1, 2)"
   ]
  },
  {
   "cell_type": "markdown",
   "metadata": {},
   "source": [
    "Si queremos mostrar nuesta salida en un formato adecuado podemos utiliza `pp`."
   ]
  },
  {
   "cell_type": "code",
   "execution_count": 3,
   "metadata": {},
   "outputs": [
    {
     "name": "stdout",
     "output_type": "stream",
     "text": [
      "(x + y)\n"
     ]
    }
   ],
   "source": [
    "print(th.pp(z))"
   ]
  },
  {
   "cell_type": "code",
   "execution_count": 5,
   "metadata": {},
   "outputs": [
    {
     "name": "stdout",
     "output_type": "stream",
     "text": [
      "((x ** TensorConstant{2}) + (y ** TensorConstant{2}))\n"
     ]
    }
   ],
   "source": [
    "z = x ** 2 + y ** 2\n",
    "\n",
    "print(th.pp(z))"
   ]
  },
  {
   "cell_type": "markdown",
   "metadata": {},
   "source": [
    "Para utilizar vectores debemos definir los tensores de tipo `dvector`."
   ]
  },
  {
   "cell_type": "code",
   "execution_count": 13,
   "metadata": {},
   "outputs": [
    {
     "name": "stdout",
     "output_type": "stream",
     "text": [
      "(x + y)\n"
     ]
    },
    {
     "data": {
      "text/plain": [
       "array([5., 7., 9.])"
      ]
     },
     "execution_count": 13,
     "metadata": {},
     "output_type": "execute_result"
    }
   ],
   "source": [
    "x = T.dvector(\"x\")\n",
    "y = T.dvector(\"y\")\n",
    "\n",
    "z = x + y\n",
    "\n",
    "f = th.function([x, y], z)\n",
    "\n",
    "print(th.pp(z))\n",
    "\n",
    "f([1, 2, 3], [4, 5, 6])"
   ]
  },
  {
   "cell_type": "markdown",
   "metadata": {},
   "source": [
    "Finalmente para utilizar matrices usamos `dmatrix`."
   ]
  },
  {
   "cell_type": "code",
   "execution_count": 14,
   "metadata": {},
   "outputs": [
    {
     "name": "stdout",
     "output_type": "stream",
     "text": [
      "(x + y)\n"
     ]
    },
    {
     "data": {
      "text/plain": [
       "array([[ 2.,  2.,  4.],\n",
       "       [ 4.,  7.,  6.],\n",
       "       [10.,  8., 12.]])"
      ]
     },
     "execution_count": 14,
     "metadata": {},
     "output_type": "execute_result"
    }
   ],
   "source": [
    "x = T.dmatrix(\"x\")\n",
    "y = T.dmatrix(\"y\")\n",
    "\n",
    "z = x + y\n",
    "\n",
    "f = th.function([x, y], z)\n",
    "\n",
    "print(th.pp(z))\n",
    "\n",
    "A = [\n",
    "    [1, 2, 3],\n",
    "    [4, 5, 6],\n",
    "    [7, 8, 9]\n",
    "]\n",
    "\n",
    "B = [\n",
    "    [1, 0, 1],\n",
    "    [0, 2, 0],\n",
    "    [3, 0, 3]\n",
    "]\n",
    "\n",
    "f(A, B)"
   ]
  },
  {
   "cell_type": "markdown",
   "metadata": {},
   "source": [
    "Podemos usar las funciones trigonométricas y de otros tipos a tráves del tensor `T`."
   ]
  },
  {
   "cell_type": "code",
   "execution_count": 15,
   "metadata": {},
   "outputs": [
    {
     "data": {
      "text/plain": [
       "array([[ 0.45464871,  0.90929743,  0.07624747],\n",
       "       [-0.7568025 ,  0.3990533 , -0.2794155 ],\n",
       "       [-0.6504118 ,  0.98935825, -0.40799421]])"
      ]
     },
     "execution_count": 15,
     "metadata": {},
     "output_type": "execute_result"
    }
   ],
   "source": [
    "x = T.dmatrix(\"x\")\n",
    "y = T.dmatrix(\"y\")\n",
    "\n",
    "z = T.sin(x) * T.cos(y)\n",
    "\n",
    "A = [\n",
    "    [1, 2, 3],\n",
    "    [4, 5, 6],\n",
    "    [7, 8, 9]\n",
    "]\n",
    "\n",
    "B = [\n",
    "    [1, 0, 1],\n",
    "    [0, 2, 0],\n",
    "    [3, 0, 3]\n",
    "]\n",
    "\n",
    "f = th.function([x, y], z)\n",
    "\n",
    "f(A, B)"
   ]
  },
  {
   "cell_type": "markdown",
   "metadata": {},
   "source": [
    "En la documentación podemos encontrar las diversas operaciones algebraícas y de otros tipos que podemos realizar a los tensores."
   ]
  },
  {
   "cell_type": "code",
   "execution_count": 31,
   "metadata": {},
   "outputs": [],
   "source": [
    "A = T.dmatrix(\"A\")\n",
    "b = T.dvector(\"b\")\n",
    "\n",
    "x = T.dot(T.nlinalg.matrix_inverse(A), b)\n",
    "\n",
    "solve = th.function([A, b], x)"
   ]
  },
  {
   "cell_type": "code",
   "execution_count": 32,
   "metadata": {},
   "outputs": [
    {
     "data": {
      "text/plain": [
       "array([1., 2.])"
      ]
     },
     "execution_count": 32,
     "metadata": {},
     "output_type": "execute_result"
    }
   ],
   "source": [
    "A = [\n",
    "    [1, 2],\n",
    "    [2, 1]\n",
    "]\n",
    "\n",
    "b = [5, 4]\n",
    "\n",
    "solve(A, b)"
   ]
  },
  {
   "cell_type": "code",
   "execution_count": 36,
   "metadata": {},
   "outputs": [
    {
     "data": {
      "text/plain": [
       "array([1., 2., 3.])"
      ]
     },
     "execution_count": 36,
     "metadata": {},
     "output_type": "execute_result"
    }
   ],
   "source": [
    "A = [\n",
    "    [1, 2, 3],\n",
    "    [2, 1, 2],\n",
    "    [1, 0, 1]\n",
    "]\n",
    "\n",
    "b = [14, 10, 4]\n",
    "\n",
    "solve(A, b)"
   ]
  },
  {
   "cell_type": "markdown",
   "metadata": {},
   "source": [
    "Vamos a rotar un punto `(x, y)` bajo el ángulo `a` para producir `(x', y')`, dónde `x' = r cos(a)` y `y' = r sin(a)`."
   ]
  },
  {
   "cell_type": "code",
   "execution_count": 68,
   "metadata": {},
   "outputs": [],
   "source": [
    "x = T.vector(\"x\")\n",
    "a = T.scalar(\"a\")\n",
    "\n",
    "rad = a * np.pi / 180.\n",
    "\n",
    "r11 = T.cos(rad)\n",
    "r12 = -T.sin(rad)\n",
    "r21 = T.sin(rad)\n",
    "r22 = T.cos(rad)\n",
    "\n",
    "R = T.as_tensor([r11, r12, r21, r22]).reshape((2, 2))\n",
    "\n",
    "xp = T.dot(R, x)\n",
    "\n",
    "rotate = th.function([x, a], xp)"
   ]
  },
  {
   "cell_type": "code",
   "execution_count": 69,
   "metadata": {},
   "outputs": [
    {
     "data": {
      "text/plain": [
       "array([-2.,  1.])"
      ]
     },
     "execution_count": 69,
     "metadata": {},
     "output_type": "execute_result"
    }
   ],
   "source": [
    "x = [1, 2]\n",
    "a = 90\n",
    "\n",
    "rotate(x, a)"
   ]
  },
  {
   "cell_type": "markdown",
   "metadata": {},
   "source": [
    "En la versión matricial quedaría."
   ]
  },
  {
   "cell_type": "code",
   "execution_count": 70,
   "metadata": {},
   "outputs": [],
   "source": [
    "x = T.matrix(\"x\")\n",
    "a = T.scalar(\"a\")\n",
    "\n",
    "rad = a * np.pi / 180.\n",
    "\n",
    "r11 = T.cos(rad)\n",
    "r12 = -T.sin(rad)\n",
    "r21 = T.sin(rad)\n",
    "r22 = T.cos(rad)\n",
    "\n",
    "R = T.as_tensor([r11, r12, r21, r22]).reshape((2, 2))\n",
    "\n",
    "xp = T.dot(R, x.T).T\n",
    "\n",
    "rotate2 = th.function([x, a], xp)"
   ]
  },
  {
   "cell_type": "code",
   "execution_count": 71,
   "metadata": {},
   "outputs": [
    {
     "data": {
      "text/plain": [
       "array([[-2.,  1.],\n",
       "       [-3.,  2.],\n",
       "       [ 1.,  5.],\n",
       "       [-2.,  2.],\n",
       "       [-3.,  4.]])"
      ]
     },
     "execution_count": 71,
     "metadata": {},
     "output_type": "execute_result"
    }
   ],
   "source": [
    "points = [\n",
    "    [1, 2],\n",
    "    [2, 3],\n",
    "    [5, -1],\n",
    "    [2, 2],\n",
    "    [4, 3]\n",
    "]\n",
    "\n",
    "rotate2(points, 90)"
   ]
  },
  {
   "cell_type": "markdown",
   "metadata": {},
   "source": [
    "Tambien podemos derivar simbólicamente las funciones usando el gradiente."
   ]
  },
  {
   "cell_type": "code",
   "execution_count": 78,
   "metadata": {},
   "outputs": [],
   "source": [
    "x = T.scalar(\"x\")\n",
    "\n",
    "y = T.sin(x)\n",
    "dy = T.grad(y, x)\n",
    "\n",
    "f = th.function([x], y)\n",
    "g = th.function([x], dy)"
   ]
  },
  {
   "cell_type": "code",
   "execution_count": 82,
   "metadata": {},
   "outputs": [
    {
     "name": "stdout",
     "output_type": "stream",
     "text": [
      "1.2246467991473532e-16\n",
      "-1.0\n"
     ]
    }
   ],
   "source": [
    "print(f(np.pi))\n",
    "print(g(np.pi))"
   ]
  },
  {
   "cell_type": "code",
   "execution_count": 84,
   "metadata": {},
   "outputs": [
    {
     "data": {
      "image/png": "[encoded data removed]",
      "text/plain": [
       "<Figure size 432x288 with 1 Axes>"
      ]
     },
     "metadata": {
      "needs_background": "light"
     },
     "output_type": "display_data"
    }
   ],
   "source": [
    "import matplotlib.pyplot as plt\n",
    "import numpy as np\n",
    "\n",
    "x = np.linspace(-np.pi, np.pi, 100)\n",
    "y = [f(xi) for xi in x]\n",
    "yd = [g(xi) for xi in x]\n",
    "\n",
    "plt.plot(x, y, color=\"blue\")\n",
    "plt.plot(x, yd, color=\"red\")\n",
    "\n",
    "plt.show()"
   ]
  }
 ],
 "metadata": {
  "kernelspec": {
   "display_name": "Python 2",
   "language": "python",
   "name": "python2"
  },
  "language_info": {
   "codemirror_mode": {
    "name": "ipython",
    "version": 2
   },
   "file_extension": ".py",
   "mimetype": "text/x-python",
   "name": "python",
   "nbconvert_exporter": "python",
   "pygments_lexer": "ipython2",
   "version": "2.7.15"
  }
 },
 "nbformat": 4,
 "nbformat_minor": 2
}
